{
  "nbformat": 4,
  "nbformat_minor": 0,
  "metadata": {
    "colab": {
      "provenance": [],
      "authorship_tag": "ABX9TyPZcLLl5MbWDTYmwYsKRGt7",
      "include_colab_link": true
    },
    "kernelspec": {
      "name": "python3",
      "display_name": "Python 3"
    },
    "language_info": {
      "name": "python"
    }
  },
  "cells": [
    {
      "cell_type": "markdown",
      "metadata": {
        "id": "view-in-github",
        "colab_type": "text"
      },
      "source": [
        "<a href=\"https://colab.research.google.com/github/MattStarDew/PUC/blob/main/EJERCICIO_3.ipynb\" target=\"_parent\"><img src=\"https://colab.research.google.com/assets/colab-badge.svg\" alt=\"Open In Colab\"/></a>"
      ]
    },
    {
      "cell_type": "markdown",
      "source": [
        "# **EJERCICIO 3:**"
      ],
      "metadata": {
        "id": "aPb9dk3NtIYi"
      }
    },
    {
      "cell_type": "markdown",
      "source": [],
      "metadata": {
        "id": "Tsn2DpJytNOS"
      }
    },
    {
      "cell_type": "markdown",
      "source": [
        "## Image segmentation: Supervised vs unsupervised approaches"
      ],
      "metadata": {
        "id": "Quh5qhVAyGAz"
      }
    },
    {
      "cell_type": "code",
      "execution_count": null,
      "metadata": {
        "id": "2ZRbvzdetDKd"
      },
      "outputs": [],
      "source": [
        "import skimage as sk\n",
        "import matplotlib.pyplot as plt\n",
        "from skimage import io\n",
        "import os\n",
        "from matplotlib import gridspec\n",
        "\n",
        "# Path of the folder in your google drive unit where you have the images:\n",
        "#path = '/content/drive/MyDrive/UL/test_images/'\n",
        "\n",
        "I_train = sk.io.imread('/content/vessels_train.jpg')\n",
        "I_train_GT = sk.io.imread('/content/vessels_train_GT.tif')\n",
        "I_test = sk.io.imread('/content/vessels_test.jpg')\n",
        "I_test_GT = sk.io.imread('/content/vessels_test_GT.tif')\n",
        "\n",
        "fig = plt.figure(figsize=(15, 15))\n",
        "gs = gridspec.GridSpec(2, 2)\n",
        "\n",
        "ax0 = fig.add_subplot(gs[0,0])\n",
        "ax0.imshow(I_train, cmap=plt.cm.gray)\n",
        "ax0.set_title('Training image')\n",
        "ax0.set_axis_off()\n",
        "\n",
        "ax1 = fig.add_subplot(gs[0,1])\n",
        "ax1.imshow(I_train_GT, cmap=plt.cm.gray)\n",
        "ax1.set_title('Ground Truth training image')\n",
        "ax1.set_axis_off()\n",
        "\n",
        "ax2 = fig.add_subplot(gs[1,0])\n",
        "ax2.imshow(I_test, cmap=plt.cm.gray)\n",
        "ax2.set_title('Test image')\n",
        "ax2.set_axis_off()\n",
        "\n",
        "ax3 = fig.add_subplot(gs[1,1])\n",
        "ax3.imshow(I_test_GT, cmap=plt.cm.gray)\n",
        "ax3.set_title('Ground Truth test image')\n",
        "ax3.set_axis_off()\n",
        "\n",
        "plt.tight_layout()\n",
        "plt.show()"
      ]
    },
    {
      "cell_type": "markdown",
      "source": [
        "### Otsu's algorithm"
      ],
      "metadata": {
        "id": "GXXwu0wLyMNz"
      }
    },
    {
      "cell_type": "code",
      "source": [
        "import matplotlib.pyplot as plt\n",
        "from matplotlib import gridspec\n",
        "from skimage.filters import threshold_otsu\n",
        "\n",
        "# Find Otsu's threshold for training image:\n",
        "threshold_otsu = threshold_otsu(I_train)\n",
        "\n",
        "# Apply threshold to test image:\n",
        "I_otsu = I_test >= threshold_otsu\n",
        "\n",
        "fig = plt.figure(figsize=(15, 15))\n",
        "gs = gridspec.GridSpec(2, 2)\n",
        "\n",
        "ax1 = fig.add_subplot(gs[0,0])\n",
        "ax1.imshow(I_test, cmap=plt.cm.gray)\n",
        "ax1.set_title('Original Image')\n",
        "ax1.set_axis_off()\n",
        "\n",
        "ax2 = fig.add_subplot(gs[0,1])\n",
        "ax2.imshow(I_otsu, cmap=plt.cm.gray)\n",
        "ax2.set_title('Vessels segmentation (Otsu Threshold T = {})'.format(threshold_otsu))\n",
        "ax2.set_axis_off()\n",
        "\n",
        "ax3 = fig.add_subplot(gs[1,:])\n",
        "ax3.hist(I_test.ravel(), bins=256,density=True)\n",
        "ax3.axvline(threshold_otsu, color='r')\n",
        "ax3.set_title('Image Histogram and Otsu threshold')\n",
        "plt.show()"
      ],
      "metadata": {
        "id": "BCr_iHMqyT5j"
      },
      "execution_count": null,
      "outputs": []
    }
  ]
}